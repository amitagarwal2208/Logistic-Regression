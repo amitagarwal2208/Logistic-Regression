{
 "cells": [
  {
   "cell_type": "code",
   "execution_count": 74,
   "metadata": {},
   "outputs": [],
   "source": [
    "import numpy as np\n",
    "import pandas as pd\n",
    "import matplotlib.pyplot as plt"
   ]
  },
  {
   "cell_type": "code",
   "execution_count": 75,
   "metadata": {},
   "outputs": [
    {
     "name": "stdout",
     "output_type": "stream",
     "text": [
      "(99, 2)\n",
      "(99, 1)\n"
     ]
    }
   ],
   "source": [
    "dfx = pd.read_csv(\"/Volumes/part3/LogisticRegressionDataset/logisticX.csv\")\n",
    "dfy = pd.read_csv(\"/Volumes/part3/LogisticRegressionDataset/logisticY.csv\")\n",
    "\n",
    "X = dfx.values\n",
    "Y = dfy.values\n",
    "A=X\n",
    "B=Y\n",
    "print(X.shape)\n",
    "print(Y.shape)"
   ]
  },
  {
   "cell_type": "code",
   "execution_count": 76,
   "metadata": {},
   "outputs": [
    {
     "data": {
      "image/png": "[encoded data removed]",
      "text/plain": [
       "<Figure size 432x288 with 1 Axes>"
      ]
     },
     "metadata": {
      "needs_background": "light"
     },
     "output_type": "display_data"
    }
   ],
   "source": [
    "plt.scatter(X[:50,0],X[:50,1],label=\"Class 0\")\n",
    "plt.scatter(X[50:,0],X[50:,1],label=\"Class 1\" , c=\"r\")\n",
    "plt.show()"
   ]
  },
  {
   "cell_type": "markdown",
   "metadata": {},
   "source": [
    "##Logistic Regression"
   ]
  },
  {
   "cell_type": "code",
   "execution_count": 77,
   "metadata": {},
   "outputs": [],
   "source": [
    "def hypothesis(x,theta):\n",
    "    h = (theta*x).sum()\n",
    "    return sigmoid(h)\n",
    "\n",
    "def sigmoid(z):\n",
    "    return 1.0/(1.0 + np.exp(-1.0*z))\n",
    "\n",
    "def gradientDescent(x,y,theta,lr=0.5):\n",
    "    err = getError(x,y,theta)\n",
    "    #grad = getGrad()\n",
    "    grad = batchGrad(x,y,theta)\n",
    "    theta-=lr*grad\n",
    "    \n",
    "    return theta,err\n",
    "\n",
    "def getError(x,y,theta):\n",
    "    err=0.0\n",
    "    \n",
    "    m=x.shape[0]\n",
    "    for i in range(m):\n",
    "        hx = hypothesis(x[i],theta)\n",
    "        if(y[i]==1 and hx!=0):\n",
    "            err+=np.log2(hx)\n",
    "        elif(y[i]==0 and hx!=1):\n",
    "            err+=np.log2(1-hx)\n",
    "    return -err/m\n",
    "\n",
    "def batchGrad(x,y,theta,batchsize=10):\n",
    "    grad = np.zeros(theta.shape)\n",
    "    m=x.shape[0]\n",
    "    indices = np.arange(m)\n",
    "    np.random.shuffle(indices)\n",
    "    indices = indices[:batchsize]\n",
    "    \n",
    "    for i in indices:\n",
    "        hx = hypothesis(x[i],theta)\n",
    "        grad+=-(y[i]-hx)*x[i]\n",
    "        \n",
    "    return grad/m \n",
    "\n"
   ]
  },
  {
   "cell_type": "code",
   "execution_count": 78,
   "metadata": {},
   "outputs": [
    {
     "name": "stdout",
     "output_type": "stream",
     "text": [
      "(99, 2) (99, 1)\n",
      "(99, 3)\n"
     ]
    }
   ],
   "source": [
    "ones = np.ones((X.shape[0],1))\n",
    "print(X.shape , ones.shape)\n",
    "X = np.hstack((ones,X))\n",
    "split = int(0.8*(X.shape[0]))\n",
    "\n",
    "print(X.shape)\n",
    "\n",
    "\n"
   ]
  },
  {
   "cell_type": "code",
   "execution_count": 79,
   "metadata": {},
   "outputs": [
    {
     "name": "stdout",
     "output_type": "stream",
     "text": [
      "(79, 3) (79, 1) (20, 3) (20, 1)\n"
     ]
    }
   ],
   "source": [
    "Xtrain = X[:split,:]\n",
    "Ytrain = Y[:split,:]\n",
    "Xtest = X[split:,:]\n",
    "Ytest = Y[split:,:]\n",
    "\n",
    "print(Xtrain.shape , Ytrain.shape , Xtest.shape , Ytest.shape)"
   ]
  },
  {
   "cell_type": "code",
   "execution_count": 80,
   "metadata": {},
   "outputs": [
    {
     "name": "stdout",
     "output_type": "stream",
     "text": [
      "(2, 2) (2, 1)\n",
      "[[1. 1. 2.]\n",
      " [1. 3. 4.]]\n"
     ]
    }
   ],
   "source": [
    "#try\n",
    "a = np.array([[1,2],\n",
    "              [3,4]])\n",
    "b = np.ones((2,1))\n",
    "print (a.shape , b.shape)\n",
    "\n",
    "c =np.hstack((b,a))\n",
    "print(c)"
   ]
  },
  {
   "cell_type": "code",
   "execution_count": 81,
   "metadata": {},
   "outputs": [
    {
     "name": "stdout",
     "output_type": "stream",
     "text": [
      "[0. 0. 0.]\n"
     ]
    }
   ],
   "source": [
    "loss = []\n",
    "accuracy = []\n",
    "\n",
    "theta = np.zeros(Xtrain.shape[1])\n",
    "print(theta)"
   ]
  },
  {
   "cell_type": "code",
   "execution_count": 82,
   "metadata": {},
   "outputs": [],
   "source": [
    "def getAccuracy(Xtest , Ytest , theta):\n",
    "    Ypred = []\n",
    "    \n",
    "    for i in range(Xtest.shape[0]):\n",
    "        pred = prediction(Xtest[i],theta)\n",
    "        Ypred.append(pred)\n",
    "        \n",
    "    Ypred = np.array(Ypred).reshape(-1,1)\n",
    "        \n",
    "    return float((Ytest==Ypred).sum())/Xtest.shape[0]\n",
    "\n",
    "def prediction(x,theta):\n",
    "    prob = hypothesis(x,theta)\n",
    "    if(prob<0.5):\n",
    "        return 0\n",
    "    else:\n",
    "        return 1\n",
    "\n",
    "for i in range(1000):\n",
    "    theta , err = gradientDescent(Xtrain , Ytrain , theta)\n",
    "    loss.append(err)\n",
    "    accuracy.append(getAccuracy(Xtest , Ytest ,theta))\n",
    "    \n"
   ]
  },
  {
   "cell_type": "code",
   "execution_count": 83,
   "metadata": {},
   "outputs": [
    {
     "data": {
      "text/plain": [
       "[<matplotlib.lines.Line2D at 0x11f878048>]"
      ]
     },
     "execution_count": 83,
     "metadata": {},
     "output_type": "execute_result"
    },
    {
     "data": {
      "image/png": "[encoded data removed]",
      "text/plain": [
       "<Figure size 432x288 with 1 Axes>"
      ]
     },
     "metadata": {
      "needs_background": "light"
     },
     "output_type": "display_data"
    }
   ],
   "source": [
    "plt.plot(loss)"
   ]
  },
  {
   "cell_type": "code",
   "execution_count": 84,
   "metadata": {},
   "outputs": [
    {
     "data": {
      "text/plain": [
       "0.9"
      ]
     },
     "execution_count": 84,
     "metadata": {},
     "output_type": "execute_result"
    }
   ],
   "source": [
    "accuracy[-1]"
   ]
  },
  {
   "cell_type": "code",
   "execution_count": 85,
   "metadata": {},
   "outputs": [
    {
     "data": {
      "image/png": "[encoded data removed]",
      "text/plain": [
       "<Figure size 432x288 with 1 Axes>"
      ]
     },
     "metadata": {
      "needs_background": "light"
     },
     "output_type": "display_data"
    }
   ],
   "source": [
    "plt.scatter(A[:50,0],A[:50,1],label=\"Class 0\")\n",
    "plt.scatter(A[50:,0],A[50:,1],label=\"Class 1\" , c=\"r\")\n",
    "x = np.linspace(1,9,50)\n",
    "y = (-theta[0]-theta[1]*x)/theta[2]\n",
    "plt.plot(x,y,c='k')\n",
    "plt.show()"
   ]
  },
  {
   "cell_type": "code",
   "execution_count": null,
   "metadata": {},
   "outputs": [],
   "source": []
  }
 ],
 "metadata": {
  "kernelspec": {
   "display_name": "Python 3",
   "language": "python",
   "name": "python3"
  },
  "language_info": {
   "codemirror_mode": {
    "name": "ipython",
    "version": 3
   },
   "file_extension": ".py",
   "mimetype": "text/x-python",
   "name": "python",
   "nbconvert_exporter": "python",
   "pygments_lexer": "ipython3",
   "version": "3.7.0"
  }
 },
 "nbformat": 4,
 "nbformat_minor": 2
}
